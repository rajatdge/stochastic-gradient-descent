{
 "cells": [
  {
   "cell_type": "markdown",
   "metadata": {},
   "source": [
    "Stochastic Gradient Descent for the Logistic Regression \n",
    "\n",
    "Author: Rajat Dange\n",
    "\n",
    "I have discussed the approach with Varun Shah.\n",
    "\n",
    "References:-  https://blog.goodaudience.com/logistic-regression-from-scratch-in-numpy-5841c09e425f\n",
    "\n"
   ]
  },
  {
   "cell_type": "code",
   "execution_count": 23,
   "metadata": {},
   "outputs": [],
   "source": [
    "import numpy as np\n",
    "from sklearn.datasets import load_iris\n",
    "import matplotlib.pyplot as plot\n",
    "from sklearn.metrics import f1_score\n",
    "from sklearn.model_selection import train_test_split"
   ]
  },
  {
   "cell_type": "code",
   "execution_count": 24,
   "metadata": {},
   "outputs": [],
   "source": [
    "def sigmoid(Z):\n",
    "    return 1/(1+np.e**(-Z))"
   ]
  },
  {
   "cell_type": "code",
   "execution_count": 25,
   "metadata": {},
   "outputs": [],
   "source": [
    "def loss_func(y,y_hat):\n",
    "    return -np.mean(y * np.log(y_hat) + (1-y) * np.log(1 - y_hat))"
   ]
  },
  {
   "cell_type": "code",
   "execution_count": 26,
   "metadata": {},
   "outputs": [],
   "source": [
    "def SGD_logistic(X,y,learning_rate = 0.01,samples_to_train_on = 30,epocs = 10000,debug=False,print_loss_at = 1000):\n",
    "    W = np.zeros((4,1))\n",
    "    b = np.zeros((1,1))\n",
    "    if debug:\n",
    "        print(\"Losses are:\")\n",
    "    for epoch in range(epocs):\n",
    "        perm =  np.random.permutation(X.shape[0])[:samples_to_train_on]\n",
    "        X_sample = X[perm]\n",
    "        y_sample = y[perm]\n",
    "        y_hat = np.matmul(X_sample, W) + b  \n",
    "        y_hat_01 = sigmoid(y_hat)\n",
    "        error = y_hat_01 - y_sample\n",
    "        dy = np.matmul(X_sample.T,error) \n",
    "        db = np.sum(error) \n",
    "        W = W - learning_rate * dy\n",
    "        b = b - learning_rate * db\n",
    "        if debug and (print_loss_at != 0) and (epoch % print_loss_at == 0):\n",
    "            loss = loss_func(y_sample,y_hat_01)\n",
    "            print(loss)\n",
    "   \n",
    "    if debug:\n",
    "        perm =  np.random.permutation(X.shape[0])[:samples_to_train_on]\n",
    "        X_sample = X[perm]\n",
    "        y_hat = np.matmul(X_sample, W) + b\n",
    "        preds = []\n",
    "        for i in sigmoid(y_hat):\n",
    "            if i > 0.5:\n",
    "                preds.append(1) \n",
    "            else:\n",
    "                preds.append(0)\n",
    "        print(\"F1 score is: \",f1_score(preds,y[perm]))\n",
    "        \n",
    "    return W,b"
   ]
  },
  {
   "cell_type": "code",
   "execution_count": 27,
   "metadata": {},
   "outputs": [],
   "source": [
    "X,y = load_iris(return_X_y = True)\n",
    "# Predict only if versicolor or not\n",
    "y = np.array([1 if ele == 2 else 0 for ele in y])\n",
    "X_train,X_test,y_train,y_test = train_test_split(X, y, test_size=0.2)\n",
    "y_train = y_train.reshape(-1,1) \n",
    "y_test = y_test.reshape(-1,1)"
   ]
  },
  {
   "cell_type": "code",
   "execution_count": 29,
   "metadata": {},
   "outputs": [
    {
     "name": "stdout",
     "output_type": "stream",
     "text": [
      "Losses are:\n",
      "0.693147180559945\n",
      "0.30698608696840207\n",
      "0.11016831922755589\n",
      "0.13191954516942614\n",
      "0.1052465505098856\n",
      "0.08204532069038611\n",
      "0.19306046959322648\n",
      "0.1320001116875126\n",
      "0.17839491338327434\n",
      "0.10771215309845408\n",
      "F1 score is:  0.896551724137931\n",
      "Accuracy =  96.66666666666667 %\n"
     ]
    }
   ],
   "source": [
    "# Testing the Stochastic Gradient Descent function\n",
    "W,b = SGD_logistic(X_train,y_train,learning_rate = 0.01,samples_to_train_on=30,epocs=1000,debug=True,print_loss_at = 100)\n",
    "\n",
    "# Printing the accuracy\n",
    "pred = []\n",
    "for ind,arr in enumerate(X_test):\n",
    "    y_hat = np.matmul(arr.T,W)\n",
    "    y_hat_01 = sigmoid(y_hat)\n",
    "    if y_hat_01 < 0.5:\n",
    "        pred.append(0)\n",
    "    else:\n",
    "        pred.append(1)\n",
    "\n",
    "count = 0\n",
    "for ind, ele in enumerate(pred):\n",
    "    if ele == y_test[ind]:\n",
    "        count += 1\n",
    "\n",
    "print(\"Accuracy = \", count/len(y_test) * 100 , \"%\")"
   ]
  }
 ],
 "metadata": {
  "kernelspec": {
   "display_name": "Python 3",
   "language": "python",
   "name": "python3"
  },
  "language_info": {
   "codemirror_mode": {
    "name": "ipython",
    "version": 3
   },
   "file_extension": ".py",
   "mimetype": "text/x-python",
   "name": "python",
   "nbconvert_exporter": "python",
   "pygments_lexer": "ipython3",
   "version": "3.7.1"
  }
 },
 "nbformat": 4,
 "nbformat_minor": 2
}
